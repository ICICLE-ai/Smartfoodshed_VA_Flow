{
 "cells": [
  {
   "cell_type": "code",
   "execution_count": null,
   "id": "b6742d54",
   "metadata": {},
   "outputs": [],
   "source": []
  },
  {
   "cell_type": "code",
   "execution_count": 1,
   "id": "9cb956ee",
   "metadata": {},
   "outputs": [],
   "source": [
    "import pandas as pd\n",
    "\n",
    "data= pd.read_csv('data/state_resilience_new.csv')"
   ]
  },
  {
   "cell_type": "code",
   "execution_count": 2,
   "id": "fa05e11d",
   "metadata": {},
   "outputs": [],
   "source": [
    "import AutoVega.visualize as autovis\n",
    "# from autoVega import visualize\n",
    "# test = autovis(data, chart=\"violinplot\")"
   ]
  },
  {
   "cell_type": "code",
   "execution_count": 3,
   "id": "1e82a029",
   "metadata": {},
   "outputs": [],
   "source": [
    "# test._label_column"
   ]
  },
  {
   "cell_type": "code",
   "execution_count": 4,
   "id": "44767859",
   "metadata": {},
   "outputs": [],
   "source": [
    "# test._numerical_column"
   ]
  },
  {
   "cell_type": "code",
   "execution_count": 5,
   "id": "fb5b7fb1",
   "metadata": {},
   "outputs": [],
   "source": [
    "# test._date_column"
   ]
  },
  {
   "cell_type": "code",
   "execution_count": 6,
   "id": "7abe397c",
   "metadata": {},
   "outputs": [
    {
     "name": "stdout",
     "output_type": "stream",
     "text": [
      "dict_keys(['map', 'histogram', 'scatterchart', 'linechart', 'boxplot', 'areachart', 'piechart', 'donutchart'])\n",
      "map\n",
      "['histogram', 'scatterchart', 'boxplot', 'piechart', 'donutchart']\n",
      "ready to draw\n",
      "{'data': {'value':        id    state     value                           group\n",
      "0     2.0   Alaska  0.777075          import_resilience_2012\n",
      "1     2.0   Alaska  0.132854          export_resilience_2012\n",
      "2     2.0   Alaska  0.007649  import_resilience_network_2012\n",
      "3     2.0   Alaska  0.000244  export_resilience_network_2012\n",
      "4     2.0   Alaska  0.250132          import_resilience_2017\n",
      "..    ...      ...       ...                             ...\n",
      "403  56.0  Wyoming  0.000261  export_resilience_network_2012\n",
      "404  56.0  Wyoming  0.457524          import_resilience_2017\n",
      "405  56.0  Wyoming  0.000000          export_resilience_2017\n",
      "406  56.0  Wyoming  0.000303  import_resilience_network_2017\n",
      "407  56.0  Wyoming  0.000000  export_resilience_network_2017\n",
      "\n",
      "[408 rows x 4 columns]}, 'transform': [{'loopup': 'id', 'from': {'data': {'url': '../../../data/us-10m.json', 'format': {'type': 'topojson', 'feature': 'states'}}, 'key': 'id'}, 'as': 'geo'}], 'projection': {'type': 'albersUsa'}, 'mark': 'geoshape', 'encoding': {'shape': {'field': 'geo', 'type': 'geojson'}, 'color': {'field': 'value', 'type': 'quantitative'}, 'row': {'field': 'group'}}}\n"
     ]
    },
    {
     "data": {
      "text/plain": [
       "[{'data': {'value':        id    state     value                           group\n",
       "   0     2.0   Alaska  0.777075          import_resilience_2012\n",
       "   1     2.0   Alaska  0.132854          export_resilience_2012\n",
       "   2     2.0   Alaska  0.007649  import_resilience_network_2012\n",
       "   3     2.0   Alaska  0.000244  export_resilience_network_2012\n",
       "   4     2.0   Alaska  0.250132          import_resilience_2017\n",
       "   ..    ...      ...       ...                             ...\n",
       "   403  56.0  Wyoming  0.000261  export_resilience_network_2012\n",
       "   404  56.0  Wyoming  0.457524          import_resilience_2017\n",
       "   405  56.0  Wyoming  0.000000          export_resilience_2017\n",
       "   406  56.0  Wyoming  0.000303  import_resilience_network_2017\n",
       "   407  56.0  Wyoming  0.000000  export_resilience_network_2017\n",
       "   \n",
       "   [408 rows x 4 columns]},\n",
       "  'transform': [{'loopup': 'id',\n",
       "    'from': {'data': {'url': '../../../data/us-10m.json',\n",
       "      'format': {'type': 'topojson', 'feature': 'states'}},\n",
       "     'key': 'id'},\n",
       "    'as': 'geo'}],\n",
       "  'projection': {'type': 'albersUsa'},\n",
       "  'mark': 'geoshape',\n",
       "  'encoding': {'shape': {'field': 'geo', 'type': 'geojson'},\n",
       "   'color': {'field': 'value', 'type': 'quantitative'},\n",
       "   'row': {'field': 'group'}}}]"
      ]
     },
     "execution_count": 6,
     "metadata": {},
     "output_type": "execute_result"
    }
   ],
   "source": [
    "test = autovis(data, chart='map')\n",
    "test.plot()"
   ]
  },
  {
   "cell_type": "code",
   "execution_count": 7,
   "id": "acc4db69",
   "metadata": {},
   "outputs": [],
   "source": [
    "# import plotly.express as px"
   ]
  },
  {
   "cell_type": "code",
   "execution_count": 8,
   "id": "239d715a",
   "metadata": {},
   "outputs": [],
   "source": [
    "# fig = px.histogram(data, x=\"selling_price\",color=\"transmission\")"
   ]
  },
  {
   "cell_type": "code",
   "execution_count": 9,
   "id": "47eca3ef",
   "metadata": {},
   "outputs": [],
   "source": [
    "# fig.show()"
   ]
  },
  {
   "cell_type": "code",
   "execution_count": 10,
   "id": "52c92740",
   "metadata": {},
   "outputs": [],
   "source": [
    "# import numpy as np\n",
    "# np.histogram(data['selling_price'])"
   ]
  },
  {
   "cell_type": "code",
   "execution_count": null,
   "id": "f9cbdaa8",
   "metadata": {},
   "outputs": [],
   "source": []
  },
  {
   "cell_type": "code",
   "execution_count": 11,
   "id": "0d82e677",
   "metadata": {},
   "outputs": [],
   "source": [
    "# plotbins = list(np.arange(start=xbins['start'], stop=xbins['end']+xbins['size'], step=xbins['size']))\n"
   ]
  },
  {
   "cell_type": "code",
   "execution_count": 12,
   "id": "c1496cf1",
   "metadata": {},
   "outputs": [],
   "source": [
    "# fig.data[0].count"
   ]
  },
  {
   "cell_type": "code",
   "execution_count": null,
   "id": "032e4bfe",
   "metadata": {},
   "outputs": [],
   "source": []
  }
 ],
 "metadata": {
  "kernelspec": {
   "display_name": "Python 3",
   "language": "python",
   "name": "python3"
  },
  "language_info": {
   "codemirror_mode": {
    "name": "ipython",
    "version": 3
   },
   "file_extension": ".py",
   "mimetype": "text/x-python",
   "name": "python",
   "nbconvert_exporter": "python",
   "pygments_lexer": "ipython3",
   "version": "3.8.8"
  }
 },
 "nbformat": 4,
 "nbformat_minor": 5
}
